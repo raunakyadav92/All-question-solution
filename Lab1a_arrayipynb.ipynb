{
  "nbformat": 4,
  "nbformat_minor": 0,
  "metadata": {
    "colab": {
      "provenance": [],
      "authorship_tag": "ABX9TyPZ+Wlpfa5xInHlH8ulnaFo",
      "include_colab_link": true
    },
    "kernelspec": {
      "name": "python3",
      "display_name": "Python 3"
    },
    "language_info": {
      "name": "python"
    }
  },
  "cells": [
    {
      "cell_type": "markdown",
      "metadata": {
        "id": "view-in-github",
        "colab_type": "text"
      },
      "source": [
        "<a href=\"https://colab.research.google.com/github/raunakyadav92/All-question-solution/blob/main/Lab1a_arrayipynb.ipynb\" target=\"_parent\"><img src=\"https://colab.research.google.com/assets/colab-badge.svg\" alt=\"Open In Colab\"/></a>"
      ]
    },
    {
      "cell_type": "markdown",
      "source": [],
      "metadata": {
        "id": "eBXiXgULCGPL"
      }
    },
    {
      "cell_type": "markdown",
      "source": [
        "1"
      ],
      "metadata": {
        "id": "Xq3_LNN3CHvb"
      }
    },
    {
      "cell_type": "code",
      "source": [
        "#include <stdio.h>\n",
        "#include <stdlib.h>\n",
        "\n",
        "#define MAX 100\n",
        "int arr[MAX], size = 0;\n",
        "\n",
        "void create() {\n",
        "    printf(\"Enter number of elements: \");\n",
        "    scanf(\"%d\", &size);\n",
        "    printf(\"Enter elements:\\n\");\n",
        "    for (int i = 0; i < size; i++)\n",
        "        scanf(\"%d\", &arr[i]);\n",
        "}\n",
        "\n",
        "void display() {\n",
        "    printf(\"Array elements: \");\n",
        "    for (int i = 0; i < size; i++)\n",
        "        printf(\"%d \", arr[i]);\n",
        "    printf(\"\\n\");\n",
        "}\n",
        "\n",
        "void insert() {\n",
        "    int pos, val;\n",
        "    printf(\"Enter position and value: \");\n",
        "    scanf(\"%d %d\", &pos, &val);\n",
        "    if (pos < 0 || pos > size) {\n",
        "        printf(\"Invalid position!\\n\");\n",
        "        return;\n",
        "    }\n",
        "    for (int i = size; i > pos; i--)\n",
        "        arr[i] = arr[i - 1];\n",
        "    arr[pos] = val;\n",
        "    size++;\n",
        "}\n",
        "\n",
        "void deleteElement() {\n",
        "    int pos;\n",
        "    printf(\"Enter position to delete: \");\n",
        "    scanf(\"%d\", &pos);\n",
        "    if (pos < 0 || pos >= size) {\n",
        "        printf(\"Invalid position!\\n\");\n",
        "        return;\n",
        "    }\n",
        "    for (int i = pos; i < size - 1; i++)\n",
        "        arr[i] = arr[i + 1];\n",
        "    size--;\n",
        "}\n",
        "\n",
        "void linearSearch() {\n",
        "    int key, found = 0;\n",
        "    printf(\"Enter element to search: \");\n",
        "    scanf(\"%d\", &key);\n",
        "    for (int i = 0; i < size; i++) {\n",
        "        if (arr[i] == key) {\n",
        "            printf(\"Element found at index %d\\n\", i);\n",
        "            found = 1;\n",
        "            break;\n",
        "        }\n",
        "    }\n",
        "    if (!found)\n",
        "        printf(\"Element not found.\\n\");\n",
        "}\n",
        "\n",
        "int main() {\n",
        "    int choice;\n",
        "    while (1) {\n",
        "        printf(\"\\n——MENU——\\n1.CREATE\\n2.DISPLAY\\n3.INSERT\\n4.DELETE\\n5.LINEAR SEARCH\\n6.EXIT\\nEnter choice: \");\n",
        "        scanf(\"%d\", &choice);\n",
        "        switch (choice) {\n",
        "            case 1: create(); break;\n",
        "            case 2: display(); break;\n",
        "            case 3: insert(); break;\n",
        "            case 4: deleteElement(); break;\n",
        "            case 5: linearSearch(); break;\n",
        "            case 6: exit(0);\n",
        "            default: printf(\"Invalid choice!\\n\");\n",
        "        }\n",
        "    }\n",
        "}"
      ],
      "metadata": {
        "id": "_YbS1a4CCKPb"
      },
      "execution_count": null,
      "outputs": []
    },
    {
      "cell_type": "markdown",
      "source": [
        "2"
      ],
      "metadata": {
        "id": "nSivm6h0CTbq"
      }
    },
    {
      "cell_type": "code",
      "source": [
        "#include <stdio.h>\n",
        "\n",
        "void removeDuplicates(int arr[], int *n) {\n",
        "    for (int i = 0; i < *n; i++) {\n",
        "        for (int j = i + 1; j < *n;) {\n",
        "            if (arr[i] == arr[j]) {\n",
        "                for (int k = j; k < *n - 1; k++)\n",
        "                    arr[k] = arr[k + 1];\n",
        "                (*n)--;\n",
        "            } else {\n",
        "                j"
      ],
      "metadata": {
        "id": "e73QSO3YCUeJ"
      },
      "execution_count": null,
      "outputs": []
    },
    {
      "cell_type": "markdown",
      "source": [
        "3"
      ],
      "metadata": {
        "id": "FzVHDCcJCZ0v"
      }
    },
    {
      "cell_type": "code",
      "source": [
        "#include <iostream>\n",
        "using namespace std;\n",
        "\n",
        "int main() {\n",
        "    int i;\n",
        "    int arr[5] = {1};\n",
        "    for (i = 0; i < 5; i++)\n",
        "        cout << arr[i];\n",
        "    return 0;\n",
        "}"
      ],
      "metadata": {
        "id": "uC6TZhSWCaXH"
      },
      "execution_count": null,
      "outputs": []
    },
    {
      "cell_type": "markdown",
      "source": [
        "4a"
      ],
      "metadata": {
        "id": "thVCwvKeCed2"
      }
    },
    {
      "cell_type": "code",
      "source": [
        "#include <iostream>\n",
        "using namespace std;\n",
        "\n",
        "int main() {\n",
        "    int arr[100], n;\n",
        "    cout << \"Enter size: \";\n",
        "    cin >> n;\n",
        "    cout << \"Enter elements:\\n\";\n",
        "    for (int i = 0; i < n; i++)\n",
        "        cin >> arr[i];\n",
        "\n",
        "    cout << \"Reversed array: \";\n",
        "    for (int i = n - 1; i >= 0; i--)\n",
        "        cout << arr[i] << \" \";\n",
        "    return 0;\n",
        "}"
      ],
      "metadata": {
        "id": "UqhPki3vCfVh"
      },
      "execution_count": null,
      "outputs": []
    },
    {
      "cell_type": "markdown",
      "source": [
        "4b"
      ],
      "metadata": {
        "id": "iiKOMX_LCkAx"
      }
    },
    {
      "cell_type": "code",
      "source": [
        "#include <iostream>\n",
        "using namespace std;\n",
        "\n",
        "int main() {\n",
        "    int a[10][10], b[10][10], c[10][10] = {0};\n",
        "    int r1, c1, r2, c2;\n",
        "    cout << \"Enter rows and columns of first matrix: \";\n",
        "    cin >> r1 >> c1;\n",
        "    cout << \"Enter rows and columns of second matrix: \";\n",
        "    cin >> r2 >> c2;\n",
        "\n",
        "    if (c1 != r2) {\n",
        "        cout << \"Matrix multiplication not possible.\\n\";\n",
        "        return 0;\n",
        "    }\n",
        "\n",
        "    cout << \"Enter elements of first matrix:\\n\";\n",
        "    for (int i = 0; i < r1; i++)\n",
        "        for (int j = 0; j < c1; j++)\n",
        "            cin >> a[i][j];\n",
        "\n",
        "    cout << \"Enter elements of second matrix:\\n\";\n",
        "    for (int i = 0; i < r2; i++)\n",
        "        for (int j = 0; j < c2; j++)\n",
        "            cin >> b[i][j];\n",
        "\n",
        "    for (int i = 0; i < r1; i++)\n",
        "        for (int j = 0; j < c2; j++)\n",
        "            for (int k = 0; k < c1; k++)\n",
        "                c[i][j] += a[i][k] * b[k][j];\n",
        "\n",
        "    cout << \"Product matrix:\\n\";\n",
        "    for (int i = 0; i < r1; i++) {\n",
        "        for (int j = 0; j < c2; j++)\n",
        "            cout << c[i][j] << \" \";\n",
        "        cout << endl;\n",
        "    }\n",
        "    return 0;\n",
        "}"
      ],
      "metadata": {
        "id": "m8chWQlVCkt-"
      },
      "execution_count": null,
      "outputs": []
    },
    {
      "cell_type": "markdown",
      "source": [
        "4c"
      ],
      "metadata": {
        "id": "VnOkhjulCru_"
      }
    },
    {
      "cell_type": "code",
      "source": [
        "#include <iostream>\n",
        "using namespace std;\n",
        "\n",
        "int main() {\n",
        "    int mat[10][10], trans[10][10], r, c;\n",
        "    cout << \"Enter rows and columns: \";\n",
        "    cin >> r >> c;\n",
        "    cout << \"Enter matrix:\\n\";\n",
        "    for (int i = 0; i < r; i++)\n",
        "        for (int j = 0; j < c; j++)\n",
        "            cin >> mat[i][j];\n",
        "\n",
        "    for (int i = 0; i < r; i++)\n",
        "        for (int j = 0; j < c; j++)\n",
        "            trans[j][i] = mat[i][j];\n",
        "\n",
        "    cout << \"Transpose matrix:\\n\";\n",
        "    for (int i = 0; i < c; i++) {\n",
        "        for (int j = 0; j < r; j++)\n",
        "            cout << trans[i][j] << \" \";\n",
        "        cout << endl;\n",
        "    }\n",
        "    return 0;\n",
        "}"
      ],
      "metadata": {
        "id": "8TGhV0MfCsoG"
      },
      "execution_count": null,
      "outputs": []
    },
    {
      "cell_type": "markdown",
      "source": [
        "5"
      ],
      "metadata": {
        "id": "rTyinRieCxzI"
      }
    },
    {
      "cell_type": "code",
      "source": [
        "#include <iostream>\n",
        "using namespace std;\n",
        "\n",
        "int main() {\n",
        "    int a[10][10], r, c;\n",
        "    cout << \"Enter rows and columns: \";\n",
        "    cin >> r >> c;\n",
        "\n",
        "    cout << \"Enter matrix:\\n\";\n",
        "    for (int i = 0; i < r; i++)\n",
        "        for (int j = 0; j < c; j++)\n",
        "            cin >> a[i][j];\n",
        "\n",
        "    for (int i = 0; i < r; i++) {\n",
        "        int rowSum = 0;\n",
        "        for (int j = 0; j < c; j++)\n",
        "            rowSum += a[i][j];\n",
        "        cout << \"Sum of row \" << i + 1 << \": \" << rowSum << endl;\n",
        "    }\n",
        "\n",
        "    for (int j = 0; j < c; j++) {\n",
        "        int colSum = 0;\n",
        "        for (int i = 0; i < r; i++)\n",
        "            colSum += a[i][j];\n",
        "        cout << \"Sum of column \" << j + 1 << \": \" << colSum << endl;\n",
        "    }\n",
        "\n",
        "    return 0;\n",
        "}"
      ],
      "metadata": {
        "id": "tngjDlIyCynX"
      },
      "execution_count": null,
      "outputs": []
    }
  ]
}