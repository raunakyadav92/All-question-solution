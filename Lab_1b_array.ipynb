{
  "nbformat": 4,
  "nbformat_minor": 0,
  "metadata": {
    "colab": {
      "provenance": [],
      "authorship_tag": "ABX9TyNaPE/sh6zEXgfB4TssGoDm",
      "include_colab_link": true
    },
    "kernelspec": {
      "name": "python3",
      "display_name": "Python 3"
    },
    "language_info": {
      "name": "python"
    }
  },
  "cells": [
    {
      "cell_type": "markdown",
      "metadata": {
        "id": "view-in-github",
        "colab_type": "text"
      },
      "source": [
        "<a href=\"https://colab.research.google.com/github/raunakyadav92/All-question-solution/blob/main/Lab_1b_array.ipynb\" target=\"_parent\"><img src=\"https://colab.research.google.com/assets/colab-badge.svg\" alt=\"Open In Colab\"/></a>"
      ]
    },
    {
      "cell_type": "markdown",
      "source": [
        "1. Binary Search"
      ],
      "metadata": {
        "id": "oIjrYLh8F_JE"
      }
    },
    {
      "cell_type": "code",
      "source": [
        "#include <iostream>\n",
        "using namespace std;\n",
        "\n",
        "int binarySearch(int arr[], int n, int key) {\n",
        "    int low = 0, high = n - 1;\n",
        "    while (low <= high) {\n",
        "        int mid = (low + high) / 2;\n",
        "        if (arr[mid] == key) return mid;\n",
        "        else if (arr[mid] < key) low = mid + 1;\n",
        "        else high = mid - 1;\n",
        "    }\n",
        "    return -1;\n",
        "}\n"
      ],
      "metadata": {
        "id": "o095TVHTGCFZ"
      },
      "execution_count": null,
      "outputs": []
    },
    {
      "cell_type": "markdown",
      "source": [
        "2. Bubble sort"
      ],
      "metadata": {
        "id": "iNY2-r4fGDW2"
      }
    },
    {
      "cell_type": "code",
      "source": [
        "#include <iostream>\n",
        "using namespace std;\n",
        "\n",
        "void bubbleSort(int arr[], int n) {\n",
        "    for (int i = 0; i < n - 1; ++i)\n",
        "        for (int j = 0; j < n - i - 1; ++j)\n",
        "            if (arr[j] > arr[j + 1])\n",
        "                swap(arr[j], arr[j + 1]);\n",
        "}\n"
      ],
      "metadata": {
        "id": "ZB4tIAyYGFXX"
      },
      "execution_count": null,
      "outputs": []
    },
    {
      "cell_type": "markdown",
      "source": [
        "3. missing number"
      ],
      "metadata": {
        "id": "liBER4pgGIzY"
      }
    },
    {
      "cell_type": "code",
      "source": [
        "int findMissing(int arr[], int n) {\n",
        "    int total = (n + 1) * (n + 2) / 2;\n",
        "    for (int i = 0; i < n; i++) total -= arr[i];\n",
        "    return total;\n",
        "}\n"
      ],
      "metadata": {
        "id": "-iFsbZXpGVjZ"
      },
      "execution_count": null,
      "outputs": []
    },
    {
      "cell_type": "markdown",
      "source": [
        "4"
      ],
      "metadata": {
        "id": "kcJcX0WOGY7m"
      }
    },
    {
      "cell_type": "code",
      "source": [
        "#include <iostream>\n",
        "#include <string>\n",
        "#include <algorithm>\n",
        "using namespace std;\n",
        "\n",
        "// a) Concatenate\n",
        "string concat(string a, string b) {\n",
        "    return a + b;\n",
        "}\n",
        "\n",
        "// b) Reverse\n",
        "string reverseStr(string s) {\n",
        "    reverse(s.begin(), s.end());\n",
        "    return s;\n",
        "}\n",
        "\n",
        "// c) Delete vowels\n",
        "string deleteVowels(string s) {\n",
        "    string res = \"\";\n",
        "    for (char c : s)\n",
        "        if (!strchr(\"aeiouAEIOU\", c)) res += c;\n",
        "    return res;\n",
        "}\n",
        "\n",
        "// d) Sort alphabetically\n",
        "string sortAlpha(string s) {\n",
        "    sort(s.begin(), s.end());\n",
        "    return s;\n",
        "}\n",
        "\n",
        "// e) Upper to lower\n",
        "char toLowerChar(char c) {\n",
        "    return tolower(c);\n",
        "}\n"
      ],
      "metadata": {
        "id": "nlGoC7P-Gb28"
      },
      "execution_count": null,
      "outputs": []
    },
    {
      "cell_type": "markdown",
      "source": [
        "5a"
      ],
      "metadata": {
        "id": "gjcmaKyrGjBm"
      }
    },
    {
      "cell_type": "code",
      "source": [
        "class Diagonal {\n",
        "    int *A;\n",
        "    int n;\n",
        "\n",
        "public:\n",
        "    Diagonal(int n) {\n",
        "        this->n = n;\n",
        "        A = new int[n];\n",
        "    }\n",
        "\n",
        "    void set(int i, int j, int x) {\n",
        "        if (i == j) A[i - 1] = x;\n",
        "    }\n",
        "\n",
        "    int get(int i, int j) {\n",
        "        if (i == j) return A[i - 1];\n",
        "        else return 0;\n",
        "    }\n",
        "\n",
        "    void display() {\n",
        "        for (int i = 0; i < n; i++) {\n",
        "            for (int j = 0; j < n; j++) {\n",
        "                if (i == j)\n",
        "                    cout << A[i] << \" \";\n",
        "                else\n",
        "                    cout << \"0 \";\n",
        "            }\n",
        "            cout << endl;\n",
        "        }\n",
        "    }\n",
        "\n",
        "    ~Diagonal() {\n",
        "        delete[] A;\n",
        "    }\n",
        "};\n"
      ],
      "metadata": {
        "id": "942jn1sxGwST"
      },
      "execution_count": null,
      "outputs": []
    },
    {
      "cell_type": "markdown",
      "source": [
        "5b"
      ],
      "metadata": {
        "id": "aQp0gbyJGzY4"
      }
    },
    {
      "cell_type": "code",
      "source": [
        "class TriDiagonal {\n",
        "    int *A;\n",
        "    int n;\n",
        "\n",
        "public:\n",
        "    TriDiagonal(int n) {\n",
        "        this->n = n;\n",
        "        A = new int[3 * n - 2];\n",
        "    }\n",
        "\n",
        "    void set(int i, int j, int x) {\n",
        "        if (i - j == 1) A[i - 2] = x;             // Lower\n",
        "        else if (i - j == 0) A[n - 1 + i - 1] = x; // Main\n",
        "        else if (i - j == -1) A[2 * n - 1 + i - 1] = x; // Upper\n",
        "    }\n",
        "\n",
        "    int get(int i, int j) {\n",
        "        if (i - j == 1) return A[i - 2];\n",
        "        else if (i - j == 0) return A[n - 1 + i - 1];\n",
        "        else if (i - j == -1) return A[2 * n - 1 + i - 1];\n",
        "        else return 0;\n",
        "    }\n",
        "\n",
        "    void display() {\n",
        "        for (int i = 1; i <= n; i++) {\n",
        "            for (int j = 1; j <= n; j++) {\n",
        "                cout << get(i, j) << \" \";\n",
        "            }\n",
        "            cout << endl;\n",
        "        }\n",
        "    }\n",
        "\n",
        "    ~TriDiagonal() {\n",
        "        delete[] A;\n",
        "    }\n",
        "};\n"
      ],
      "metadata": {
        "id": "BmSnnh3cG0MZ"
      },
      "execution_count": null,
      "outputs": []
    },
    {
      "cell_type": "markdown",
      "source": [
        "5c"
      ],
      "metadata": {
        "id": "sdAVzXJCG4Pn"
      }
    },
    {
      "cell_type": "code",
      "source": [
        "class LowerTriangular {\n",
        "    int *A;\n",
        "    int n;\n",
        "\n",
        "public:\n",
        "    LowerTriangular(int n) {\n",
        "        this->n = n;\n",
        "        A = new int[n * (n + 1) / 2];\n",
        "    }\n",
        "\n",
        "    void set(int i, int j, int x) {\n",
        "        if (i >= j) A[i * (i - 1) / 2 + j - 1] = x;\n",
        "    }\n",
        "\n",
        "    int get(int i, int j) {\n",
        "        if (i >= j) return A[i * (i - 1) / 2 + j - 1];\n",
        "        else return 0;\n",
        "    }\n",
        "\n",
        "    void display() {\n",
        "        for (int i = 1; i <= n; i++) {\n",
        "            for (int j = 1; j <= n; j++) {\n",
        "                cout << get(i, j) << \" \";\n",
        "            }\n",
        "            cout << endl;\n",
        "        }\n",
        "    }\n",
        "\n",
        "    ~LowerTriangular() {\n",
        "        delete[] A;\n",
        "    }\n",
        "};\n"
      ],
      "metadata": {
        "id": "kIh5NAb6G43g"
      },
      "execution_count": null,
      "outputs": []
    },
    {
      "cell_type": "markdown",
      "source": [
        "5d"
      ],
      "metadata": {
        "id": "YJwmIyPvG-By"
      }
    },
    {
      "cell_type": "code",
      "source": [
        "#include <iostream>\n",
        "using namespace std;\n",
        "\n",
        "class UpperTriangular {\n",
        "    int *A;\n",
        "    int n;\n",
        "\n",
        "public:\n",
        "    UpperTriangular(int size) {\n",
        "        n = size;\n",
        "        A = new int[n * (n + 1) / 2];\n",
        "    }\n",
        "\n",
        "    void set(int i, int j, int x) {\n",
        "        if (i <= j) {\n",
        "            int index = (i - 1) * n - ((i - 2) * (i - 1)) / 2 + (j - i);\n",
        "            A[index] = x;\n",
        "        }\n",
        "    }\n",
        "\n",
        "    int get(int i, int j) {\n",
        "        if (i <= j) {\n",
        "            int index = (i - 1) * n - ((i - 2) * (i - 1)) / 2 + (j - i);\n",
        "            return A[index];\n",
        "        }\n",
        "        return 0;\n",
        "    }\n",
        "\n",
        "    void display() {\n",
        "        for (int i = 1; i <= n; i++) {\n",
        "            for (int j = 1; j <= n; j++) {\n",
        "                cout << get(i, j) << \" \";\n",
        "            }\n",
        "            cout << endl;\n",
        "        }\n",
        "    }\n",
        "\n",
        "    ~UpperTriangular() {\n",
        "        delete[] A;\n",
        "    }\n",
        "};\n",
        "\n",
        "int main() {\n",
        "    UpperTriangular ut(4);\n",
        "    ut.set(1, 1, 5);\n",
        "    ut.set(1, 2, 8);\n",
        "    ut.set(1, 3, 3);\n",
        "    ut.set(1, 4, 1);\n",
        "    ut.set(2, 2, 6);\n",
        "    ut.set(2, 3, 7);\n",
        "    ut.set(2, 4, 4);\n",
        "    ut.set(3, 3, 9);\n",
        "    ut.set(3, 4, 2);\n",
        "    ut.set(4, 4, 10);\n",
        "\n",
        "    cout << \"Upper Triangular Matrix:\" << endl;\n",
        "    ut.display();\n",
        "\n",
        "    return 0;\n",
        "}\n"
      ],
      "metadata": {
        "id": "sf_2UD9WG_AM"
      },
      "execution_count": null,
      "outputs": []
    },
    {
      "cell_type": "markdown",
      "source": [
        "5e"
      ],
      "metadata": {
        "id": "IcPy250wHIr8"
      }
    },
    {
      "cell_type": "code",
      "source": [
        "#include <iostream>\n",
        "using namespace std;\n",
        "\n",
        "class SymmetricMatrix {\n",
        "    int *A;\n",
        "    int n;\n",
        "\n",
        "public:\n",
        "    SymmetricMatrix(int size) {\n",
        "        n = size;\n",
        "        A = new int[n * (n + 1) / 2];\n",
        "    }\n",
        "\n",
        "    void set(int i, int j, int x) {\n",
        "        if (i >= j) {\n",
        "            int index = i * (i - 1) / 2 + (j - 1);\n",
        "            A[index] = x;\n",
        "        }\n",
        "    }\n",
        "\n",
        "    int get(int i, int j) {\n",
        "        if (i >= j) {\n",
        "            int index = i * (i - 1) / 2 + (j - 1);\n",
        "            return A[index];\n",
        "        } else {\n",
        "            int index = j * (j - 1) / 2 + (i - 1);\n",
        "            return A[index];\n",
        "        }\n",
        "    }\n",
        "\n",
        "    void display() {\n",
        "        for (int i = 1; i <= n; i++) {\n",
        "            for (int j = 1; j <= n; j++) {\n",
        "                cout << get(i, j) << \" \";\n",
        "            }\n",
        "            cout << endl;\n",
        "        }\n",
        "    }\n",
        "\n",
        "    ~SymmetricMatrix() {\n",
        "        delete[] A;\n",
        "    }\n",
        "};\n",
        "\n",
        "int main() {\n",
        "    SymmetricMatrix sm(3);\n",
        "    sm.set(1, 1, 5);\n",
        "    sm.set(2, 1, 8);\n",
        "    sm.set(2, 2, 6);\n",
        "    sm.set(3, 1, 3);\n",
        "    sm.set(3, 2, 7);\n",
        "    sm.set(3, 3, 4);\n",
        "\n",
        "    cout << \"Symmetric Matrix:\" << endl;\n",
        "    sm.display();\n",
        "\n",
        "    return 0;\n",
        "}\n"
      ],
      "metadata": {
        "id": "iGpRnj_YHJn9"
      },
      "execution_count": null,
      "outputs": []
    },
    {
      "cell_type": "markdown",
      "source": [
        "6a"
      ],
      "metadata": {
        "id": "1OsVk56JHOcF"
      }
    },
    {
      "cell_type": "code",
      "source": [
        "SparseMatrix* transpose(SparseMatrix *s) {\n",
        "    SparseMatrix *t = new SparseMatrix(s->cols, s->rows, s->num);\n",
        "    int k = 0;\n",
        "\n",
        "    for (int i = 0; i < s->cols; i++) {\n",
        "        for (int j = 0; j < s->num; j++) {\n",
        "            if (s->e[j].col == i) {\n",
        "                t->e[k].row = s->e[j].col;\n",
        "                t->e[k].col = s->e[j].row;\n",
        "                t->e[k].val = s->e[j].val;\n",
        "                k++;\n",
        "            }\n",
        "        }\n",
        "    }\n",
        "    return t;\n",
        "}\n"
      ],
      "metadata": {
        "id": "4yUUhEUKHQ-s"
      },
      "execution_count": null,
      "outputs": []
    },
    {
      "cell_type": "markdown",
      "source": [
        "6b"
      ],
      "metadata": {
        "id": "Kz3XAMxLHYkh"
      }
    },
    {
      "cell_type": "code",
      "source": [
        "// Make sure dimensions are the same\n",
        "SparseMatrix* add(SparseMatrix *a, SparseMatrix *b) {\n",
        "    if (a->rows != b->rows || a->cols != b->cols) return nullptr;\n",
        "\n",
        "    SparseMatrix *sum = new SparseMatrix(a->rows, a->cols, a->num + b->num);\n",
        "    int i = 0, j = 0, k = 0;\n",
        "\n",
        "    while (i < a->num && j < b->num) {\n",
        "        if (a->e[i].row < b->e[j].row ||\n",
        "           (a->e[i].row == b->e[j].row && a->e[i].col < b->e[j].col)) {\n",
        "            sum->e[k++] = a->e[i++];\n",
        "        }\n",
        "        else if (a->e[i].row > b->e[j].row ||\n",
        "                (a->e[i].row == b->e[j].row && a->e[i].col > b->e[j].col)) {\n",
        "            sum->e[k++] = b->e[j++];\n",
        "        } else {\n",
        "            sum->e[k] = a->e[i];\n",
        "            sum->e[k++].val += b->e[j++].val;\n",
        "            i++;\n",
        "        }\n",
        "    }\n",
        "\n",
        "    while (i < a->num) sum->e[k++] = a->e[i++];\n",
        "    while (j < b->num) sum->e[k++] = b->e[j++];\n",
        "\n",
        "    sum->num = k;\n",
        "    return sum;\n",
        "}\n"
      ],
      "metadata": {
        "id": "gmPvQo0WHZnI"
      },
      "execution_count": null,
      "outputs": []
    },
    {
      "cell_type": "markdown",
      "source": [
        "6c"
      ],
      "metadata": {
        "id": "N1H30yiCHco6"
      }
    },
    {
      "cell_type": "code",
      "source": [
        "#include <iostream>\n",
        "using namespace std;\n",
        "\n",
        "struct Element {\n",
        "    int row, col, val;\n",
        "};\n",
        "\n",
        "class SparseMatrix {\n",
        "public:\n",
        "    int rows, cols, num; // dimensions and number of non-zero elements\n",
        "    Element *data;\n",
        "\n",
        "    SparseMatrix(int r, int c, int n) {\n",
        "        rows = r;\n",
        "        cols = c;\n",
        "        num = n;\n",
        "        data = new Element[n];\n",
        "    }\n",
        "\n",
        "    ~SparseMatrix() {\n",
        "        delete[] data;\n",
        "    }\n",
        "\n",
        "    void read() {\n",
        "        cout << \"Enter row, column and value of each element:\\n\";\n",
        "        for (int i = 0; i < num; i++) {\n",
        "            cin >> data[i].row >> data[i].col >> data[i].val;\n",
        "        }\n",
        "    }\n",
        "\n",
        "    void display() {\n",
        "        cout << \"Row Col Val\\n\";\n",
        "        for (int i = 0; i < num; i++) {\n",
        "            cout << data[i].row << \" \" << data[i].col << \" \" << data[i].val << \"\\n\";\n",
        "        }\n",
        "    }\n",
        "\n",
        "    SparseMatrix *transpose() {\n",
        "        SparseMatrix *t = new SparseMatrix(cols, rows, num);\n",
        "        int k = 0;\n",
        "        for (int i = 0; i < cols; i++) {\n",
        "            for (int j = 0; j < num; j++) {\n",
        "                if (data[j].col == i) {\n",
        "                    t->data[k].row = data[j].col;\n",
        "                    t->data[k].col = data[j].row;\n",
        "                    t->data[k].val = data[j].val;\n",
        "                    k++;\n",
        "                }\n",
        "            }\n",
        "        }\n",
        "        return t;\n",
        "    }\n",
        "\n",
        "    SparseMatrix *multiply(SparseMatrix *b) {\n",
        "        if (cols != b->rows) {\n",
        "            cout << \"Matrix multiplication not possible.\\n\";\n",
        "            return nullptr;\n",
        "        }\n",
        "\n",
        "        SparseMatrix *bT = b->transpose();\n",
        "        SparseMatrix *result = new SparseMatrix(rows, b->cols, rows * b->cols);\n",
        "        int k = 0;\n",
        "\n",
        "        for (int i = 0; i < rows; i++) {\n",
        "            for (int j = 0; j < bT->rows; j++) {\n",
        "                int sum = 0;\n",
        "                for (int a = 0; a < num; a++) {\n",
        "                    for (int b = 0; b < bT->num; b++) {\n",
        "                        if (data[a].row == i && bT->data[b].row == j &&\n",
        "                            data[a].col == bT->data[b].col) {\n",
        "                            sum += data[a].val * bT->data[b].val;\n",
        "                        }\n",
        "                    }\n",
        "                }\n",
        "                if (sum != 0) {\n",
        "                    result->data[k].row = i;\n",
        "                    result->data[k].col = j;\n",
        "                    result->data[k].val = sum;\n",
        "                    k++;\n",
        "                }\n",
        "            }\n",
        "        }\n",
        "\n",
        "        result->num = k;\n",
        "        return result;\n",
        "    }\n",
        "};\n",
        "\n",
        "// ----------- Example Main Function -----------\n",
        "int main() {\n",
        "    int m, n, p, t1, t2;\n",
        "\n",
        "    cout << \"Enter dimensions of matrix A (rows cols non-zero): \";\n",
        "    cin >> m >> n >> t1;\n",
        "    SparseMatrix A(m, n, t1);\n",
        "    A.read();\n",
        "\n",
        "    cout << \"Enter dimensions of matrix B (rows cols non-zero): \";\n",
        "    cin >> n >> p >> t2;\n",
        "    SparseMatrix B(n, p, t2);\n",
        "    B.read();\n",
        "\n",
        "    SparseMatrix *C = A.multiply(&B);\n",
        "\n",
        "    if (C) {\n",
        "        cout << \"\\nResultant Matrix (A x B) in Triplet Form:\\n\";\n",
        "        C->display();\n",
        "    }\n",
        "\n",
        "    return 0;\n",
        "}\n"
      ],
      "metadata": {
        "id": "MeRgmz31HdUo"
      },
      "execution_count": null,
      "outputs": []
    },
    {
      "cell_type": "markdown",
      "source": [
        "7"
      ],
      "metadata": {
        "id": "B9Rfnt3XHpQF"
      }
    },
    {
      "cell_type": "code",
      "source": [
        "#include <iostream>\n",
        "using namespace std;\n",
        "\n",
        "int countInversions(int arr[], int n) {\n",
        "    int invCount = 0;\n",
        "    for (int i = 0; i < n - 1; i++)\n",
        "        for (int j = i + 1; j < n; j++)\n",
        "            if (arr[i] > arr[j])\n",
        "                invCount++;\n",
        "    return invCount;\n",
        "}\n",
        "\n",
        "int main() {\n",
        "    int arr[] = {1, 20, 6, 4, 5};\n",
        "    int n = sizeof(arr) / sizeof(arr[0]);\n",
        "    cout << \"Number of inversions: \" << countInversions(arr, n) << endl;\n",
        "    return 0;\n",
        "}\n"
      ],
      "metadata": {
        "id": "xIwpUpbRHqWA"
      },
      "execution_count": null,
      "outputs": []
    },
    {
      "cell_type": "markdown",
      "source": [
        "8"
      ],
      "metadata": {
        "id": "S9sbwhsKH0pn"
      }
    },
    {
      "cell_type": "code",
      "source": [
        "#include <iostream>\n",
        "#include <set>\n",
        "using namespace std;\n",
        "\n",
        "int countDistinct(int arr[], int n) {\n",
        "    set<int> s(arr, arr + n);\n",
        "    return s.size();\n",
        "}\n",
        "\n",
        "int main() {\n",
        "    int arr[] = {1, 2, 2, 3, 4, 4, 5};\n",
        "    int n = sizeof(arr) / sizeof(arr[0]);\n",
        "\n",
        "    cout << \"Total distinct elements: \" << countDistinct(arr, n) << endl;\n",
        "    return 0;\n",
        "}\n"
      ],
      "metadata": {
        "id": "0ROQcqo2H1PH"
      },
      "execution_count": null,
      "outputs": []
    },
    {
      "cell_type": "markdown",
      "source": [
        "additional question"
      ],
      "metadata": {
        "id": "wbLBtxuvIDf1"
      }
    },
    {
      "cell_type": "code",
      "source": [
        "#include <iostream>\n",
        "using namespace std;\n",
        "\n",
        "void findSaddlePoint(int mat[10][10], int n) {\n",
        "    bool found = false;\n",
        "\n",
        "    for (int i = 0; i < n; i++) {\n",
        "        int minRowVal = mat[i][0];\n",
        "        int colIndex = 0;\n",
        "\n",
        "        // Find minimum element in current row\n",
        "        for (int j = 1; j < n; j++) {\n",
        "            if (mat[i][j] < minRowVal) {\n",
        "                minRowVal = mat[i][j];\n",
        "                colIndex = j;\n",
        "            }\n",
        "        }\n",
        "\n",
        "        // Check if it is maximum in its column\n",
        "        bool isSaddle = true;\n",
        "        for (int k = 0; k < n; k++) {\n",
        "            if (mat[k][colIndex] > minRowVal) {\n",
        "                isSaddle = false;\n",
        "                break;\n",
        "            }\n",
        "        }\n",
        "\n",
        "        if (isSaddle) {\n",
        "            cout << \"Saddle Point found at (\" << i << \",\" << colIndex << \") = \" << minRowVal << endl;\n",
        "            found = true;\n",
        "        }\n",
        "    }\n",
        "\n",
        "    if (!found) {\n",
        "        cout << \"No Saddle Point found in the matrix.\" << endl;\n",
        "    }\n",
        "}\n",
        "\n",
        "int main() {\n",
        "    int mat[10][10], n;\n",
        "\n",
        "    cout << \"Enter size of square matrix (n x n): \";\n",
        "    cin >> n;\n",
        "\n",
        "    cout << \"Enter matrix elements:\\n\";\n",
        "    for (int i = 0; i < n; i++)\n",
        "        for (int j = 0; j < n; j++)\n",
        "            cin >> mat[i][j];\n",
        "\n",
        "    findSaddlePoint(mat, n);\n",
        "    return 0;\n",
        "}\n"
      ],
      "metadata": {
        "id": "nvJrChRhIFkq"
      },
      "execution_count": null,
      "outputs": []
    }
  ]
}